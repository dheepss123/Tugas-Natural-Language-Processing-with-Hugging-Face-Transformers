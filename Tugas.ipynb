{
 "cells": [
  {
   "cell_type": "markdown",
   "metadata": {},
   "source": [
    "# Import Library"
   ]
  },
  {
   "cell_type": "code",
   "execution_count": 1,
   "metadata": {},
   "outputs": [
    {
     "name": "stdout",
     "output_type": "stream",
     "text": [
      "WARNING:tensorflow:From c:\\Users\\SistemInformasi\\AppData\\Local\\Programs\\Python\\Python310\\lib\\site-packages\\keras\\src\\losses.py:2976: The name tf.losses.sparse_softmax_cross_entropy is deprecated. Please use tf.compat.v1.losses.sparse_softmax_cross_entropy instead.\n",
      "\n"
     ]
    }
   ],
   "source": [
    "from transformers import pipeline\n",
    "from transformers import AutoTokenizer\n",
    "from transformers import AutoModel\n",
    "\n",
    "import warnings\n",
    "warnings.filterwarnings('ignore')"
   ]
  },
  {
   "cell_type": "markdown",
   "metadata": {},
   "source": [
    "# Exercise"
   ]
  },
  {
   "cell_type": "markdown",
   "metadata": {},
   "source": [
    "# Exercise 1 Sentiment Analiysis"
   ]
  },
  {
   "cell_type": "code",
   "execution_count": 14,
   "metadata": {},
   "outputs": [],
   "source": [
    "classifier = pipeline(\"sentiment-analysis\", model=\"cardiffnlp/twitter-roberta-base-sentiment\")"
   ]
  },
  {
   "cell_type": "code",
   "execution_count": 26,
   "metadata": {},
   "outputs": [
    {
     "name": "stdout",
     "output_type": "stream",
     "text": [
      "Label keluaran untuk model ini adalah: 0 = Negatif, 1 = Netral, 2 = Positif.\n",
      "Hasil Analisis sentiment result1:  [{'label': 'LABEL_0', 'score': 0.9742543697357178}]\n",
      "Hasil Analisis sentiment result2:  [{'label': 'LABEL_1', 'score': 0.45127245783805847}]\n",
      "Hasil Analisis sentiment result3:  [{'label': 'LABEL_2', 'score': 0.9894585609436035}]\n"
     ]
    }
   ],
   "source": [
    "# Negatif \n",
    "result1 = classifier(\"The service is very bad! I waited for 2 hours and no one came to help.\")\n",
    "# Netral\n",
    "result2 = classifier(\"\")\n",
    "# Positif\n",
    "result3 = classifier(\"hai nice to see you, you have good tase of music ilove it\")\n",
    "\n",
    "print(\"Label keluaran untuk model ini adalah: 0 = Negatif, 1 = Netral, 2 = Positif.\")\n",
    "\n",
    "print(\"Hasil Analisis sentiment result1: \",result1)\n",
    "print(\"Hasil Analisis sentiment result2: \",result2)\n",
    "print(\"Hasil Analisis sentiment result3: \",result3)"
   ]
  },
  {
   "cell_type": "markdown",
   "metadata": {},
   "source": [
    "# Exercise 2 Topic Classification"
   ]
  },
  {
   "cell_type": "code",
   "execution_count": 28,
   "metadata": {},
   "outputs": [],
   "source": [
    "classifier  =  pipeline ( \"zero-shot-classification\" ,  model = \"facebook/bart-large-mnli\" ) "
   ]
  },
  {
   "cell_type": "code",
   "execution_count": 31,
   "metadata": {},
   "outputs": [
    {
     "data": {
      "text/plain": [
       "{'sequence': 'text classification technique that can be used without labeled training data. This technique utilizes a language model that has been trained on a large corpus of text and code. This model can predict topic labels for new text based on knowledge gained from training data.',\n",
       " 'labels': ['text', 'artificial intelegence'],\n",
       " 'scores': [0.954590380191803, 0.04540965333580971]}"
      ]
     },
     "execution_count": 31,
     "metadata": {},
     "output_type": "execute_result"
    }
   ],
   "source": [
    "classifier ( \n",
    "    \"text classification technique that can be used without labeled training data. This technique utilizes a language model that has been trained on a large corpus of text and code. This model can predict topic labels for new text based on knowledge gained from training data.\" , \n",
    "    candidate_labels = [\"artificial intelegence\", \"text\"], \n",
    ")"
   ]
  },
  {
   "cell_type": "markdown",
   "metadata": {},
   "source": [
    "# Exercise 3 Text Generator"
   ]
  },
  {
   "cell_type": "code",
   "execution_count": 45,
   "metadata": {},
   "outputs": [
    {
     "name": "stderr",
     "output_type": "stream",
     "text": [
      "Truncation was not explicitly activated but `max_length` is provided a specific value, please use `truncation=True` to explicitly truncate examples to max length. Defaulting to 'longest_first' truncation strategy. If you encode pairs of sequences (GLUE-style) with the tokenizer you can select this strategy more precisely by providing a specific strategy to `truncation`.\n",
      "Setting `pad_token_id` to `eos_token_id`:50256 for open-end generation.\n"
     ]
    },
    {
     "data": {
      "text/plain": [
       "[{'generated_text': \"teach me how to make http response in golang \\xa0or my book \\xa0or whatever the latest version of I have (my last year of school was in 2010)\\nWe've got a better understanding of what our client needs and should pay for. At least we have that at this date.\\nI can't wait to make the final, easy decisions, too.\"},\n",
       " {'generated_text': 'teach me how to make http response in golang !!??????????? -??????????? -??????????? -??????????? -??????????? -??????????? -??????????? -??????????? -??????????? -??????????? -?????????? -??????????? -?????????? -?????????? -??????????? -?????????? -???? -???? -?????????? -?????????? -?????????? -???? -???? -?????????? -?????????? -?????????? -?????????? -?????????? -?????????? -?????????? -?????????? -???? -?????????? -?????????? -?????????? -?????????? -?????????? -???? -?????????? -?????????? -???? -?????????? -???? -?????????? -???? -?????????? -?????????? -?????????? -???? -????\\n\\n\\nhttp://www.youtube.com/watch?v=QHJQzF6jWpA http://www.youtube.com/watch?v=hJQzF6jWpA http://'},\n",
       " {'generated_text': 'teach me how to make http response in golang \\xa0and how to write a single line or two. All I need from you is your thoughts!'},\n",
       " {'generated_text': 'teach me how to make http response in golang ive got this in python http://www.learnpython.org/index.php/#methods\\n\\nThis looks pretty amazing and fun, just be sure to open up the project and start coding in your shell.'},\n",
       " {'generated_text': \"teach me how to make http response in golang \\xa0http://www.youtube.com/watch?v=3zwBK3WWGz2\\nI hope you guys appreciate my tutorial for use in your applications. It's an easy way to learn how to configure your python interpreter and create webhooks to connect through a server. This tutorial assumes you have a basic knowledge of Python.\\nStep 3: Generate a WebRequest on a Flask Connecting to a webserver.\\n# Go to http://localhost:8000-8200 # Make sure the client's IP address is 192.168.0.3 and that it's a valid port number # Use the following command to generate WebRequest if required https://port:8000-8200:8000:c0 (make sure the client's IP is 192.168.0.4) # You can also use the 'http.client.send_proxy' option to send a response to the webserver in the following way : web { proxy_pass 'https://192.168.0.3:8000-8200:8000:c0'; }\\nStep 4: Create a WebSocket client:\\nweb 'http\"},\n",
       " {'generated_text': 'teach me how to make http response in golang !!!!!!!!!!!!!!!!!!!!!!!!!!!!!!!!!!!!!!!!!!!!!!!!!!!! This is a program which executes with a command prompt and tries to print my email address. The program is designed such that I know when to open it with OpenSSL on my computer. It was designed to read its user file, copy its configuration files and write the actual output to the email address. It is really easy to copy the system information from a program like this http://bit.ly/w0iQdL It is like being a programmer who has seen an error only to have a program that interprets all of those information and has made a good recovery from it. Of course, when he looks at the messages I am writing to his system, I am able to see if I am writing a program to his computer or a program to an email. If he reads that or something that he notices he will see the real message. You can see in this program that a small box with a simple red box at the end looks like a program with the correct configuration file. This is the program that was built with a command prompt: To run it it is easy to open the program from a DOS command prompt in Visual Studio: To'},\n",
       " {'generated_text': \"teach me how to make http response in golang !!\\n\\nIt's simple, but still very impressive. It makes a nice text block of code that I also write on it. Maybe if I had the brain/hands, I would ask myself how to make it better, since it's actually very nice.\\n\\nA really interesting example project I just discovered using this library are The Great Pyramid's Pyramid Code Generator (http://www.pyramid.org/products/pythagoras_code_generator.html), where a piece of code is drawn to a particular point and then executed, and then I don't start drawing new lines of code in time, because I feel like I can't focus on this task when I'm working. If someone had the same problem using this library, the results would be a great way to teach you about other ways in which to write an understandable, readable code.\\n\\nAlso, because it's so easy, it's very easy to maintain, and I got a lot less spam on it than I thought I would.\\n\\nNow to the next part. You can learn to do these things on PyPy and I will tell you about how to make them much more\"},\n",
       " {'generated_text': 'teach me how to make http response in golang !!\\n\\nI like to know the truth as soon as possible, if there is anything to be known about my code\\n\\nand I just want to know what the actual results are.\\n\\nNow, you know that it doesn\\'t matter if I had just written an ugly (obfuscated) program and now I have a way to test it with Go? But, I am sure that this answer will not be good for the users of Go because the program will not produce any interesting output after all.\\n\\nIn Go, if you start writing tests to determine what I think of something in the code, you will always get an error, in this case a Go \"test run\". For me, this is the equivalent of finding that the user interface is working fine.\\n\\nThe difference in this case is that after checking the code with Go and seeing that it has a very good working program, it goes up to the conclusion. If I don\\'t test it, I can give an answer based on the information and will continue working. This way \"I\" can get an answer based on other factors instead of looking for error as if it were the actual reason.\\n'},\n",
       " {'generated_text': \"teach me how to make http response in golang ____ This is my response to an email sent to me by a client. I would just like to know how to make this request. Can I send any commands to you about this? I don't know. If you respond, I'll find out more. Send a message in golf ____ I'd love to mail you a golf card explaining how to get the golf cards. This can be a simple one or a long one. How can I request all in one message? I can send this message if you're already here. Send this message in golang I want to print what I can. Does this exist: http://yourdomain.com/contact/?address=YOUR_CARDY# of the letter that would get you a golf card. Is this present.\\n\\nI'd love to get this message. Is this present. Sending a message from I'm interested to reply to in this format? I can't see the answer to that. If you don't see the answer, or your messages are missing or aren't in the appropriate format that might help me figure this out. I don't have the time to do a search. Do I have any\"},\n",
       " {'generated_text': \"teach me how to make http response in golang ipsp://www.golang.org/package-detail/ipython\\n\\nIn order to add an event listener for your Python web application, it is necessary to include the following python.inspective.py in your pip.conf files:\\n\\nimport sys # Set your Python API variable with the following variable for your service. import jython from pygame import win from pandas.request import win.Server class Player() class Player(n): # Create a match and try to take advantage of the player() if not self.player.capture() or self.player.get() else: def player(): self._player[0][1][2] = player Player() if self.player.capture and self.player._capture: self._player[0] = player Players.append(self.player.capture) # This works on many platforms as well. try: player_name = match(self.player) except 'ignore, fail, find not allowed,': self._player_name = match(self.player) except 'ignore, fail, find not allowed': try: player_name\"}]"
      ]
     },
     "execution_count": 45,
     "metadata": {},
     "output_type": "execute_result"
    }
   ],
   "source": [
    "generator  =  pipeline ( \"text-generation\" ,  model = \"gpt2\" ) \n",
    "generator ( \n",
    "    \"teach me how to make http response in golang \" , \n",
    "    max_length = 250 , \n",
    "    num_return_sequences = 10 , \n",
    ")"
   ]
  },
  {
   "cell_type": "markdown",
   "metadata": {},
   "source": [
    "# Exercise 4 Masked Language Modeling"
   ]
  },
  {
   "cell_type": "code",
   "execution_count": 47,
   "metadata": {},
   "outputs": [
    {
     "name": "stdout",
     "output_type": "stream",
     "text": [
      "[{'entity_group': 'PER', 'score': 0.9586319, 'word': 'Gilang', 'start': 0, 'end': 6}, {'entity_group': 'LOC', 'score': 0.9944397, 'word': 'silicon valley', 'start': 14, 'end': 29}, {'entity_group': 'ORG', 'score': 0.9251758, 'word': 'google united states of america', 'start': 29, 'end': 61}]\n"
     ]
    }
   ],
   "source": [
    "ner = pipeline(\"ner\", model=\"Jean-Baptiste/camembert-ner\",\n",
    "                grouped_entities = True)\n",
    "\n",
    "test = \"Gilang work in silicon valley google united states of america. he is 20 years old\"\n",
    "\n",
    "ner_result = ner(test)\n",
    "print(ner_result)"
   ]
  },
  {
   "cell_type": "markdown",
   "metadata": {},
   "source": [
    "# Example 5 Question Answering"
   ]
  },
  {
   "cell_type": "code",
   "execution_count": 59,
   "metadata": {},
   "outputs": [
    {
     "name": "stdout",
     "output_type": "stream",
     "text": [
      "Answer: Natural Language Processing\n"
     ]
    }
   ],
   "source": [
    "from transformers import pipeline\n",
    "\n",
    "\n",
    "QA = pipeline(\"question-answering\", model=\"distilbert-base-cased-distilled-squad\")\n",
    "\n",
    "# Definisikan input sebagai dictionary\n",
    "input_data = {\n",
    "    \"question\": \"what is nlp?\",\n",
    "    \"context\": \"Natural Language Processing (NLP) is a branch of computer science that focuses on the interaction between computers and human language. NLP aims to enable computers to understand, analyze and generate human language in the form of text or sounds.\"\n",
    "}\n",
    "\n",
    "\n",
    "result = QA(**input_data)\n",
    "\n",
    "\n",
    "print(\"Answer:\", result[\"answer\"])\n"
   ]
  },
  {
   "cell_type": "markdown",
   "metadata": {},
   "source": [
    "# Example 6 Summary Text"
   ]
  },
  {
   "cell_type": "code",
   "execution_count": 55,
   "metadata": {},
   "outputs": [
    {
     "data": {
      "text/plain": [
       "[{'summary_text': ' Kecerdasan Buatan (AI) adalah salah satu terobosan teknologi paling revolusioner di era modern . AI meniru kecerdasan manusia dalam sistem komputer, memungkinkan mereka untuk belajar, bernalar, dan menyelesaikan tugas .'}]"
      ]
     },
     "execution_count": 55,
     "metadata": {},
     "output_type": "execute_result"
    }
   ],
   "source": [
    "ringkasan  =  pipeline ( \"summarization\" ,\n",
    "                        model = \"sshleifer/distilbart-cnn-12-6\" ,\n",
    "                        max_length = 100 ) \n",
    "ringkasan ( \"\"\"\n",
    "           Kecerdasan Buatan (AI): Masa Depan Teknologi\n",
    "           Kecerdasan Buatan (AI) adalah salah satu terobosan teknologi paling revolusioner di era modern.\n",
    "           AI meniru kecerdasan manusia dalam sistem komputer, memungkinkan mereka untuk belajar, bernalar, dan menyelesaikan tugas secara mandiri.\n",
    "           AI memiliki potensi untuk mengubah hampir semua aspek kehidupan manusia, dari cara kita bekerja dan berkomunikasi hingga cara kita berbelanja dan bersantai.\n",
    "           Bagaimana AI Bekerja?\n",
    "           AI bekerja dengan menggunakan algoritma yang kompleks untuk menganalisis data dan membuat prediksi.\n",
    "           Algoritma ini dilatih pada kumpulan data besar, yang memungkinkan mereka untuk mempelajari pola dan hubungan.\n",
    "           Semakin banyak data yang diproses AI, semakin akurat prediksinya.\n",
    "           \"\"\"\n",
    "           )    \n"
   ]
  },
  {
   "cell_type": "markdown",
   "metadata": {},
   "source": [
    "# Example 7 Translate"
   ]
  },
  {
   "cell_type": "code",
   "execution_count": 68,
   "metadata": {},
   "outputs": [
    {
     "name": "stdout",
     "output_type": "stream",
     "text": [
      "[{'translation_text': 'Indonesien ist das wunderbare Land, ich liebe Indonesie'}]\n"
     ]
    }
   ],
   "source": [
    "penerjemah  =  pipeline ( \"translation_en_to_de\" ,  model = \"t5-small\" ) \n",
    "print ( penerjemah ( \"Indonesia is the wonderfull country, i love indonesia \" ,  max_length = 40 ))"
   ]
  }
 ],
 "metadata": {
  "kernelspec": {
   "display_name": "Python 3",
   "language": "python",
   "name": "python3"
  },
  "language_info": {
   "codemirror_mode": {
    "name": "ipython",
    "version": 3
   },
   "file_extension": ".py",
   "mimetype": "text/x-python",
   "name": "python",
   "nbconvert_exporter": "python",
   "pygments_lexer": "ipython3",
   "version": "3.10.0"
  }
 },
 "nbformat": 4,
 "nbformat_minor": 2
}
